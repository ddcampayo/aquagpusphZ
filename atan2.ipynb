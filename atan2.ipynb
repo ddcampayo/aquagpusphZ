{
 "cells": [
  {
   "cell_type": "code",
   "execution_count": 1,
   "id": "c343c3a7",
   "metadata": {},
   "outputs": [],
   "source": [
    "import numpy as np\n",
    "import matplotlib.pyplot as plt\n",
    "from pylab import cm"
   ]
  },
  {
   "cell_type": "code",
   "execution_count": 2,
   "id": "0415ec30",
   "metadata": {},
   "outputs": [
    {
     "data": {
      "text/plain": [
       "-0.49999999681690116"
      ]
     },
     "execution_count": 2,
     "metadata": {},
     "output_type": "execute_result"
    }
   ],
   "source": [
    "np.arctan( -1000/ 0.00001) / np.pi"
   ]
  },
  {
   "cell_type": "code",
   "execution_count": 3,
   "id": "f6612ea0",
   "metadata": {},
   "outputs": [
    {
     "data": {
      "text/plain": [
       "0.49999999681690116"
      ]
     },
     "execution_count": 3,
     "metadata": {},
     "output_type": "execute_result"
    }
   ],
   "source": [
    "np.arctan2( 1000 , 0.00001) / np.pi"
   ]
  },
  {
   "cell_type": "code",
   "execution_count": 4,
   "id": "99f85300",
   "metadata": {},
   "outputs": [
    {
     "data": {
      "text/plain": [
       "-0.5000000031830989"
      ]
     },
     "execution_count": 4,
     "metadata": {},
     "output_type": "execute_result"
    }
   ],
   "source": [
    "np.arctan2( -1000 , -0.00001) / np.pi"
   ]
  },
  {
   "cell_type": "code",
   "execution_count": 5,
   "id": "04e16112",
   "metadata": {},
   "outputs": [],
   "source": [
    "d = -0.00004\n",
    "s = 1\n",
    "t = 0.51"
   ]
  },
  {
   "cell_type": "code",
   "execution_count": 6,
   "id": "8156703d",
   "metadata": {},
   "outputs": [
    {
     "data": {
      "text/plain": [
       "-0.49998739366788053"
      ]
     },
     "execution_count": 6,
     "metadata": {},
     "output_type": "execute_result"
    }
   ],
   "source": [
    "np.arctan( (t+s/2)  / d ) / np.pi"
   ]
  },
  {
   "cell_type": "code",
   "execution_count": 7,
   "id": "3eaa3002",
   "metadata": {},
   "outputs": [
    {
     "data": {
      "text/plain": [
       "0.5000126063321195"
      ]
     },
     "execution_count": 7,
     "metadata": {},
     "output_type": "execute_result"
    }
   ],
   "source": [
    "np.arctan2( t+s/2 , d ) / np.pi"
   ]
  },
  {
   "cell_type": "code",
   "execution_count": 8,
   "id": "b21690d5",
   "metadata": {},
   "outputs": [
    {
     "data": {
      "text/plain": [
       "0.49872676724581055"
      ]
     },
     "execution_count": 8,
     "metadata": {},
     "output_type": "execute_result"
    }
   ],
   "source": [
    "np.arctan( (s/2 - t )  / d ) / np.pi"
   ]
  },
  {
   "cell_type": "code",
   "execution_count": 9,
   "id": "7653b25b",
   "metadata": {},
   "outputs": [
    {
     "data": {
      "text/plain": [
       "-0.5012732327541894"
      ]
     },
     "execution_count": 9,
     "metadata": {},
     "output_type": "execute_result"
    }
   ],
   "source": [
    "np.arctan2( s/2 - t , d ) / np.pi"
   ]
  },
  {
   "cell_type": "code",
   "execution_count": 10,
   "id": "8a39508a",
   "metadata": {},
   "outputs": [
    {
     "data": {
      "text/plain": [
       "-0.001260626422069977"
      ]
     },
     "execution_count": 10,
     "metadata": {},
     "output_type": "execute_result"
    }
   ],
   "source": [
    "np.arctan( (s/2 + t)  / d ) / np.pi  + np.arctan( (s/2 - t )  / d ) / np.pi"
   ]
  },
  {
   "cell_type": "code",
   "execution_count": 11,
   "id": "b1ecbbf4",
   "metadata": {},
   "outputs": [
    {
     "data": {
      "text/plain": [
       "-0.0012606264220699215"
      ]
     },
     "execution_count": 11,
     "metadata": {},
     "output_type": "execute_result"
    }
   ],
   "source": [
    "np.arctan2( s/2+t , d ) / np.pi  + np.arctan2( s/2 - t , d ) / np.pi"
   ]
  },
  {
   "cell_type": "code",
   "execution_count": 12,
   "id": "80b4cdf8",
   "metadata": {},
   "outputs": [],
   "source": [
    "d = -0.02\n",
    "s = 1\n",
    "t = 0.1"
   ]
  },
  {
   "cell_type": "code",
   "execution_count": 13,
   "id": "cd2bc9f9",
   "metadata": {},
   "outputs": [
    {
     "data": {
      "text/plain": [
       "-0.9734913463382882"
      ]
     },
     "execution_count": 13,
     "metadata": {},
     "output_type": "execute_result"
    }
   ],
   "source": [
    "np.arctan( (s/2 + t)  / d ) / np.pi  + np.arctan( (s/2 - t )  / d ) / np.pi"
   ]
  },
  {
   "cell_type": "code",
   "execution_count": 14,
   "id": "c8c87978",
   "metadata": {},
   "outputs": [
    {
     "data": {
      "text/plain": [
       "1.0265086536617118"
      ]
     },
     "execution_count": 14,
     "metadata": {},
     "output_type": "execute_result"
    }
   ],
   "source": [
    "np.arctan2( s/2+t , d ) / np.pi  + np.arctan2( s/2 - t , d ) / np.pi"
   ]
  },
  {
   "cell_type": "code",
   "execution_count": 15,
   "id": "aef76341",
   "metadata": {},
   "outputs": [],
   "source": [
    "x1 = np.array([2,1])\n",
    "S1 = 2\n",
    "n1 = np.array([-1,0])\n",
    "t1 = np.array([0,1])"
   ]
  },
  {
   "cell_type": "code",
   "execution_count": 16,
   "id": "e0343557",
   "metadata": {},
   "outputs": [],
   "source": [
    "x2 = np.array([1,2])\n",
    "S2 = 2\n",
    "n2 = np.array([0,-1])\n",
    "t2 = np.array([1,0])"
   ]
  },
  {
   "cell_type": "code",
   "execution_count": 17,
   "id": "62c79550",
   "metadata": {},
   "outputs": [],
   "source": [
    "x = np.array([2.1,2.3])"
   ]
  },
  {
   "cell_type": "code",
   "execution_count": 18,
   "id": "30053f13",
   "metadata": {},
   "outputs": [],
   "source": [
    "d1 = np.dot((x1 - x) , n1)"
   ]
  },
  {
   "cell_type": "code",
   "execution_count": 19,
   "id": "76e0f511",
   "metadata": {},
   "outputs": [
    {
     "data": {
      "text/plain": [
       "0.10000000000000009"
      ]
     },
     "execution_count": 19,
     "metadata": {},
     "output_type": "execute_result"
    }
   ],
   "source": [
    "d1"
   ]
  },
  {
   "cell_type": "code",
   "execution_count": 20,
   "id": "7e7e5d89",
   "metadata": {},
   "outputs": [],
   "source": [
    "tt1 = np.abs( np.dot((x1 - x) , t1) )"
   ]
  },
  {
   "cell_type": "code",
   "execution_count": 21,
   "id": "5a001cb4",
   "metadata": {},
   "outputs": [
    {
     "data": {
      "text/plain": [
       "1.2999999999999998"
      ]
     },
     "execution_count": 21,
     "metadata": {},
     "output_type": "execute_result"
    }
   ],
   "source": [
    "tt1"
   ]
  },
  {
   "cell_type": "code",
   "execution_count": 22,
   "id": "59ed746e",
   "metadata": {},
   "outputs": [
    {
     "data": {
      "text/plain": [
       "0.486169150433338"
      ]
     },
     "execution_count": 22,
     "metadata": {},
     "output_type": "execute_result"
    }
   ],
   "source": [
    "np.arctan2( S1 /2 + tt1 , d1 ) / np.pi "
   ]
  },
  {
   "cell_type": "code",
   "execution_count": 23,
   "id": "a30ca45f",
   "metadata": {},
   "outputs": [
    {
     "data": {
      "text/plain": [
       "0.39758361765043315"
      ]
     },
     "execution_count": 23,
     "metadata": {},
     "output_type": "execute_result"
    }
   ],
   "source": [
    "np.arctan2( - S1 /2 + tt1 , d1 ) / np.pi "
   ]
  },
  {
   "cell_type": "code",
   "execution_count": 24,
   "id": "b5ee2a36",
   "metadata": {},
   "outputs": [],
   "source": [
    "al1 = np.arctan2( S1 /2 + tt1 , d1 ) / np.pi  - np.arctan2(  - S1 /2 + tt1 , d1 ) / np.pi "
   ]
  },
  {
   "cell_type": "code",
   "execution_count": 25,
   "id": "bc5a4e76",
   "metadata": {},
   "outputs": [
    {
     "data": {
      "text/plain": [
       "0.08858553278290487"
      ]
     },
     "execution_count": 25,
     "metadata": {},
     "output_type": "execute_result"
    }
   ],
   "source": [
    "al1"
   ]
  },
  {
   "cell_type": "code",
   "execution_count": 26,
   "id": "5873d8ed",
   "metadata": {},
   "outputs": [],
   "source": [
    "d2 = np.dot((x2 - x) , n2)\n",
    "tt2 =np.abs( np.dot((x2 - x) , t2))"
   ]
  },
  {
   "cell_type": "code",
   "execution_count": 27,
   "id": "c455fa11",
   "metadata": {},
   "outputs": [
    {
     "data": {
      "text/plain": [
       "0.2999999999999998"
      ]
     },
     "execution_count": 27,
     "metadata": {},
     "output_type": "execute_result"
    }
   ],
   "source": [
    "d2"
   ]
  },
  {
   "cell_type": "code",
   "execution_count": 28,
   "id": "8f5a2111",
   "metadata": {},
   "outputs": [],
   "source": [
    "al2 = np.arctan2( S2 /2 + tt2 , d2 ) / np.pi  + np.arctan2( S2 /2 - tt2 , d2 ) / np.pi "
   ]
  },
  {
   "cell_type": "code",
   "execution_count": 29,
   "id": "eebc6a30",
   "metadata": {},
   "outputs": [
    {
     "data": {
      "text/plain": [
       "0.3524163823495666"
      ]
     },
     "execution_count": 29,
     "metadata": {},
     "output_type": "execute_result"
    }
   ],
   "source": [
    "al2"
   ]
  },
  {
   "cell_type": "code",
   "execution_count": 30,
   "id": "9090f6a5",
   "metadata": {},
   "outputs": [
    {
     "data": {
      "text/plain": [
       "0.4410019151324715"
      ]
     },
     "execution_count": 30,
     "metadata": {},
     "output_type": "execute_result"
    }
   ],
   "source": [
    "al1 + al2"
   ]
  },
  {
   "cell_type": "code",
   "execution_count": 36,
   "id": "78c6c036",
   "metadata": {},
   "outputs": [],
   "source": [
    "def al(x0, y0) :\n",
    "    xx = np.array([ x0, y0 ])\n",
    "    d1 = np.dot((x1 - xx) , n1)\n",
    "    tt1 = np.abs( np.dot((x1 - xx) , t1) )\n",
    "    d2 = np.dot((x2 - xx) , n2)\n",
    "    tt2 =np.abs( np.dot((x2 - xx) , t2))\n",
    "    al1 = np.arctan2( S1 /2 + tt1 , d1 ) / np.pi  - np.arctan2(  - S1 /2 + tt1 , d1 ) / np.pi \n",
    "    al2 = np.arctan2( S2 /2 + tt2 , d2 ) / np.pi  + np.arctan2( S2 /2 - tt2 , d2 ) / np.pi \n",
    "    return al1+al2"
   ]
  },
  {
   "cell_type": "code",
   "execution_count": 37,
   "id": "4221b232",
   "metadata": {},
   "outputs": [
    {
     "data": {
      "text/plain": [
       "0.4410019151324715"
      ]
     },
     "execution_count": 37,
     "metadata": {},
     "output_type": "execute_result"
    }
   ],
   "source": [
    "al(2.1,2.3)"
   ]
  },
  {
   "cell_type": "code",
   "execution_count": 103,
   "id": "2453c20b",
   "metadata": {},
   "outputs": [
    {
     "data": {
      "text/plain": [
       "array([1, 2])"
      ]
     },
     "execution_count": 103,
     "metadata": {},
     "output_type": "execute_result"
    }
   ],
   "source": [
    "x2"
   ]
  },
  {
   "cell_type": "code",
   "execution_count": 143,
   "id": "0865a69f",
   "metadata": {},
   "outputs": [],
   "source": [
    "x_min = 0\n",
    "x_max = 2.5\n",
    "y_min = 0\n",
    "y_max = 2.5\n",
    "\n",
    "xr, yr = np.meshgrid(np.linspace(x_min,x_max, 100), np.linspace(y_min,y_max, 100))\n",
    "\n",
    "v_al = np.vectorize( al )\n",
    "y = v_al(xr,yr)"
   ]
  },
  {
   "cell_type": "code",
   "execution_count": 154,
   "id": "fa0d756b",
   "metadata": {},
   "outputs": [
    {
     "data": {
      "text/plain": [
       "<matplotlib.colorbar.Colorbar at 0x7fa8d27a0f10>"
      ]
     },
     "execution_count": 154,
     "metadata": {},
     "output_type": "execute_result"
    },
    {
     "data": {
      "image/png": "[encoded data removed]",
      "text/plain": [
       "<Figure size 432x288 with 2 Axes>"
      ]
     },
     "metadata": {
      "needs_background": "light"
     },
     "output_type": "display_data"
    }
   ],
   "source": [
    "levels= np.linspace( 0.25, 0.75, 21)\n",
    "plt.contour(xr, yr , y , levels , extent=[x_min,x_max,y_min,y_max], cmap=cm.jet, vmin=0, vmax=1, origin='lower')\n",
    "plt.axis('equal')\n",
    "plt.colorbar()"
   ]
  },
  {
   "cell_type": "code",
   "execution_count": 145,
   "id": "80bda545",
   "metadata": {},
   "outputs": [
    {
     "data": {
      "text/plain": [
       "<matplotlib.colorbar.Colorbar at 0x7fa8d2d0eda0>"
      ]
     },
     "execution_count": 145,
     "metadata": {},
     "output_type": "execute_result"
    },
    {
     "data": {
      "image/png": "[encoded data removed]",
      "text/plain": [
       "<Figure size 432x288 with 2 Axes>"
      ]
     },
     "metadata": {
      "needs_background": "light"
     },
     "output_type": "display_data"
    }
   ],
   "source": [
    "plt.imshow(y,extent=[x_min,x_max,y_min,y_max], aspect = 'equal', cmap=cm.jet, vmin=0, vmax=1, origin='lower')\n",
    "#plt.imshow(y, cmap=cm.jet, origin='lower')\n",
    "#plt.colorbar(boundaries=np.linspace(0,1,5))\n",
    "plt.colorbar()"
   ]
  },
  {
   "cell_type": "code",
   "execution_count": 38,
   "id": "e9e61435",
   "metadata": {},
   "outputs": [],
   "source": [
    "def al_tan(x0, y0) :\n",
    "    xx = np.array([ x0, y0 ])\n",
    "    d1 = np.abs(np.dot((x1 - xx) , n1))\n",
    "    tt1 = np.abs( np.dot((x1 - xx) , t1) )\n",
    "    d2 = np.abs(np.dot((x2 - xx) , n2))\n",
    "    tt2 =np.abs( np.dot((x2 - xx) , t2))\n",
    "    al1 = np.arctan(( tt1 + S1 /2  )/ d1 )   - np.arctan(( tt1 - S1 /2  )/ d1 ) \n",
    "    al2 = np.arctan(( tt2 + S2 /2  )/ d2 )   - np.arctan(( tt2 - S2 /2  )/ d2 ) \n",
    "    return (al1 + al2 ) / np.pi"
   ]
  },
  {
   "cell_type": "code",
   "execution_count": 40,
   "id": "e88a7a75",
   "metadata": {},
   "outputs": [
    {
     "data": {
      "text/plain": [
       "0.4410019151324715"
      ]
     },
     "execution_count": 40,
     "metadata": {},
     "output_type": "execute_result"
    }
   ],
   "source": [
    "al_tan(2.1,2.3)"
   ]
  },
  {
   "cell_type": "code",
   "execution_count": null,
   "id": "c32888eb",
   "metadata": {},
   "outputs": [],
   "source": []
  }
 ],
 "metadata": {
  "kernelspec": {
   "display_name": "Python 3 (ipykernel)",
   "language": "python",
   "name": "python3"
  },
  "language_info": {
   "codemirror_mode": {
    "name": "ipython",
    "version": 3
   },
   "file_extension": ".py",
   "mimetype": "text/x-python",
   "name": "python",
   "nbconvert_exporter": "python",
   "pygments_lexer": "ipython3",
   "version": "3.10.4"
  }
 },
 "nbformat": 4,
 "nbformat_minor": 5
}
